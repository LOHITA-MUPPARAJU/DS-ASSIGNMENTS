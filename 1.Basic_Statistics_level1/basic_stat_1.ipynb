{
 "cells": [
  {
   "cell_type": "markdown",
   "id": "414c5245",
   "metadata": {},
   "source": [
    "Question 7"
   ]
  },
  {
   "cell_type": "code",
   "execution_count": 21,
   "id": "a8aa6bd4",
   "metadata": {},
   "outputs": [],
   "source": [
    "import numpy as np \n",
    "import pandas as pd\n",
    "import matplotlib.pyplot as plt\n",
    "import seaborn as sns\n",
    "%matplotlib inline"
   ]
  },
  {
   "cell_type": "code",
   "execution_count": 45,
   "id": "34f23175",
   "metadata": {},
   "outputs": [],
   "source": [
    "Q7=pd.read_csv(\"datascience/Q7.csv\")"
   ]
  },
  {
   "cell_type": "code",
   "execution_count": 46,
   "id": "c617278c",
   "metadata": {
    "scrolled": false
   },
   "outputs": [
    {
     "data": {
      "text/html": [
       "<div>\n",
       "<style scoped>\n",
       "    .dataframe tbody tr th:only-of-type {\n",
       "        vertical-align: middle;\n",
       "    }\n",
       "\n",
       "    .dataframe tbody tr th {\n",
       "        vertical-align: top;\n",
       "    }\n",
       "\n",
       "    .dataframe thead th {\n",
       "        text-align: right;\n",
       "    }\n",
       "</style>\n",
       "<table border=\"1\" class=\"dataframe\">\n",
       "  <thead>\n",
       "    <tr style=\"text-align: right;\">\n",
       "      <th></th>\n",
       "      <th>Unnamed: 0</th>\n",
       "      <th>Points</th>\n",
       "      <th>Score</th>\n",
       "      <th>Weigh</th>\n",
       "    </tr>\n",
       "  </thead>\n",
       "  <tbody>\n",
       "    <tr>\n",
       "      <th>0</th>\n",
       "      <td>Mazda RX4</td>\n",
       "      <td>3.90</td>\n",
       "      <td>2.620</td>\n",
       "      <td>16.46</td>\n",
       "    </tr>\n",
       "    <tr>\n",
       "      <th>1</th>\n",
       "      <td>Mazda RX4 Wag</td>\n",
       "      <td>3.90</td>\n",
       "      <td>2.875</td>\n",
       "      <td>17.02</td>\n",
       "    </tr>\n",
       "    <tr>\n",
       "      <th>2</th>\n",
       "      <td>Datsun 710</td>\n",
       "      <td>3.85</td>\n",
       "      <td>2.320</td>\n",
       "      <td>18.61</td>\n",
       "    </tr>\n",
       "    <tr>\n",
       "      <th>3</th>\n",
       "      <td>Hornet 4 Drive</td>\n",
       "      <td>3.08</td>\n",
       "      <td>3.215</td>\n",
       "      <td>19.44</td>\n",
       "    </tr>\n",
       "    <tr>\n",
       "      <th>4</th>\n",
       "      <td>Hornet Sportabout</td>\n",
       "      <td>3.15</td>\n",
       "      <td>3.440</td>\n",
       "      <td>17.02</td>\n",
       "    </tr>\n",
       "  </tbody>\n",
       "</table>\n",
       "</div>"
      ],
      "text/plain": [
       "          Unnamed: 0  Points  Score  Weigh\n",
       "0          Mazda RX4    3.90  2.620  16.46\n",
       "1      Mazda RX4 Wag    3.90  2.875  17.02\n",
       "2         Datsun 710    3.85  2.320  18.61\n",
       "3     Hornet 4 Drive    3.08  3.215  19.44\n",
       "4  Hornet Sportabout    3.15  3.440  17.02"
      ]
     },
     "execution_count": 46,
     "metadata": {},
     "output_type": "execute_result"
    }
   ],
   "source": [
    "Q7.head()"
   ]
  },
  {
   "cell_type": "code",
   "execution_count": 47,
   "id": "a143a940",
   "metadata": {},
   "outputs": [
    {
     "data": {
      "text/html": [
       "<div>\n",
       "<style scoped>\n",
       "    .dataframe tbody tr th:only-of-type {\n",
       "        vertical-align: middle;\n",
       "    }\n",
       "\n",
       "    .dataframe tbody tr th {\n",
       "        vertical-align: top;\n",
       "    }\n",
       "\n",
       "    .dataframe thead th {\n",
       "        text-align: right;\n",
       "    }\n",
       "</style>\n",
       "<table border=\"1\" class=\"dataframe\">\n",
       "  <thead>\n",
       "    <tr style=\"text-align: right;\">\n",
       "      <th></th>\n",
       "      <th>Points</th>\n",
       "      <th>Score</th>\n",
       "      <th>Weigh</th>\n",
       "    </tr>\n",
       "  </thead>\n",
       "  <tbody>\n",
       "    <tr>\n",
       "      <th>count</th>\n",
       "      <td>32.000000</td>\n",
       "      <td>32.000000</td>\n",
       "      <td>32.000000</td>\n",
       "    </tr>\n",
       "    <tr>\n",
       "      <th>mean</th>\n",
       "      <td>3.596563</td>\n",
       "      <td>3.217250</td>\n",
       "      <td>17.848750</td>\n",
       "    </tr>\n",
       "    <tr>\n",
       "      <th>std</th>\n",
       "      <td>0.534679</td>\n",
       "      <td>0.978457</td>\n",
       "      <td>1.786943</td>\n",
       "    </tr>\n",
       "    <tr>\n",
       "      <th>min</th>\n",
       "      <td>2.760000</td>\n",
       "      <td>1.513000</td>\n",
       "      <td>14.500000</td>\n",
       "    </tr>\n",
       "    <tr>\n",
       "      <th>25%</th>\n",
       "      <td>3.080000</td>\n",
       "      <td>2.581250</td>\n",
       "      <td>16.892500</td>\n",
       "    </tr>\n",
       "    <tr>\n",
       "      <th>50%</th>\n",
       "      <td>3.695000</td>\n",
       "      <td>3.325000</td>\n",
       "      <td>17.710000</td>\n",
       "    </tr>\n",
       "    <tr>\n",
       "      <th>75%</th>\n",
       "      <td>3.920000</td>\n",
       "      <td>3.610000</td>\n",
       "      <td>18.900000</td>\n",
       "    </tr>\n",
       "    <tr>\n",
       "      <th>max</th>\n",
       "      <td>4.930000</td>\n",
       "      <td>5.424000</td>\n",
       "      <td>22.900000</td>\n",
       "    </tr>\n",
       "  </tbody>\n",
       "</table>\n",
       "</div>"
      ],
      "text/plain": [
       "          Points      Score      Weigh\n",
       "count  32.000000  32.000000  32.000000\n",
       "mean    3.596563   3.217250  17.848750\n",
       "std     0.534679   0.978457   1.786943\n",
       "min     2.760000   1.513000  14.500000\n",
       "25%     3.080000   2.581250  16.892500\n",
       "50%     3.695000   3.325000  17.710000\n",
       "75%     3.920000   3.610000  18.900000\n",
       "max     4.930000   5.424000  22.900000"
      ]
     },
     "execution_count": 47,
     "metadata": {},
     "output_type": "execute_result"
    }
   ],
   "source": [
    "Q7.describe()"
   ]
  },
  {
   "cell_type": "code",
   "execution_count": 48,
   "id": "7d04e6c9",
   "metadata": {},
   "outputs": [
    {
     "name": "stderr",
     "output_type": "stream",
     "text": [
      "C:\\Users\\ranji\\AppData\\Local\\Temp\\ipykernel_3440\\1360685345.py:1: FutureWarning: Dropping of nuisance columns in DataFrame reductions (with 'numeric_only=None') is deprecated; in a future version this will raise TypeError.  Select only valid columns before calling the reduction.\n",
      "  Q7.median()\n"
     ]
    },
    {
     "data": {
      "text/plain": [
       "Points     3.695\n",
       "Score      3.325\n",
       "Weigh     17.710\n",
       "dtype: float64"
      ]
     },
     "execution_count": 48,
     "metadata": {},
     "output_type": "execute_result"
    }
   ],
   "source": [
    "Q7.median()"
   ]
  },
  {
   "cell_type": "code",
   "execution_count": 49,
   "id": "89272d0d",
   "metadata": {},
   "outputs": [
    {
     "data": {
      "text/html": [
       "<div>\n",
       "<style scoped>\n",
       "    .dataframe tbody tr th:only-of-type {\n",
       "        vertical-align: middle;\n",
       "    }\n",
       "\n",
       "    .dataframe tbody tr th {\n",
       "        vertical-align: top;\n",
       "    }\n",
       "\n",
       "    .dataframe thead th {\n",
       "        text-align: right;\n",
       "    }\n",
       "</style>\n",
       "<table border=\"1\" class=\"dataframe\">\n",
       "  <thead>\n",
       "    <tr style=\"text-align: right;\">\n",
       "      <th></th>\n",
       "      <th>Points</th>\n",
       "      <th>Score</th>\n",
       "      <th>Weigh</th>\n",
       "    </tr>\n",
       "  </thead>\n",
       "  <tbody>\n",
       "    <tr>\n",
       "      <th>0</th>\n",
       "      <td>3.07</td>\n",
       "      <td>3.44</td>\n",
       "      <td>17.02</td>\n",
       "    </tr>\n",
       "    <tr>\n",
       "      <th>1</th>\n",
       "      <td>3.92</td>\n",
       "      <td>NaN</td>\n",
       "      <td>18.90</td>\n",
       "    </tr>\n",
       "  </tbody>\n",
       "</table>\n",
       "</div>"
      ],
      "text/plain": [
       "   Points  Score  Weigh\n",
       "0    3.07   3.44  17.02\n",
       "1    3.92    NaN  18.90"
      ]
     },
     "execution_count": 49,
     "metadata": {},
     "output_type": "execute_result"
    }
   ],
   "source": [
    "Q7[['Points','Score','Weigh']].mode()"
   ]
  },
  {
   "cell_type": "code",
   "execution_count": 50,
   "id": "ef270585",
   "metadata": {},
   "outputs": [
    {
     "data": {
      "image/png": "[encoded data removed]",
      "text/plain": [
       "<Figure size 432x432 with 3 Axes>"
      ]
     },
     "metadata": {
      "needs_background": "light"
     },
     "output_type": "display_data"
    }
   ],
   "source": [
    "sns.jointplot(x='Weigh',y='Points',data=Q7)\n",
    "plt.show()"
   ]
  },
  {
   "cell_type": "markdown",
   "id": "bbaca4ee",
   "metadata": {},
   "source": [
    "Question 9"
   ]
  },
  {
   "cell_type": "code",
   "execution_count": 32,
   "id": "cd8d8fd2",
   "metadata": {},
   "outputs": [],
   "source": [
    "q9=pd.read_csv(\"datascience/Q9_a.csv\")"
   ]
  },
  {
   "cell_type": "code",
   "execution_count": 34,
   "id": "98668c08",
   "metadata": {},
   "outputs": [
    {
     "data": {
      "text/html": [
       "<div>\n",
       "<style scoped>\n",
       "    .dataframe tbody tr th:only-of-type {\n",
       "        vertical-align: middle;\n",
       "    }\n",
       "\n",
       "    .dataframe tbody tr th {\n",
       "        vertical-align: top;\n",
       "    }\n",
       "\n",
       "    .dataframe thead th {\n",
       "        text-align: right;\n",
       "    }\n",
       "</style>\n",
       "<table border=\"1\" class=\"dataframe\">\n",
       "  <thead>\n",
       "    <tr style=\"text-align: right;\">\n",
       "      <th></th>\n",
       "      <th>Index</th>\n",
       "      <th>speed</th>\n",
       "      <th>dist</th>\n",
       "    </tr>\n",
       "  </thead>\n",
       "  <tbody>\n",
       "    <tr>\n",
       "      <th>0</th>\n",
       "      <td>1</td>\n",
       "      <td>4</td>\n",
       "      <td>2</td>\n",
       "    </tr>\n",
       "    <tr>\n",
       "      <th>1</th>\n",
       "      <td>2</td>\n",
       "      <td>4</td>\n",
       "      <td>10</td>\n",
       "    </tr>\n",
       "    <tr>\n",
       "      <th>2</th>\n",
       "      <td>3</td>\n",
       "      <td>7</td>\n",
       "      <td>4</td>\n",
       "    </tr>\n",
       "    <tr>\n",
       "      <th>3</th>\n",
       "      <td>4</td>\n",
       "      <td>7</td>\n",
       "      <td>22</td>\n",
       "    </tr>\n",
       "    <tr>\n",
       "      <th>4</th>\n",
       "      <td>5</td>\n",
       "      <td>8</td>\n",
       "      <td>16</td>\n",
       "    </tr>\n",
       "  </tbody>\n",
       "</table>\n",
       "</div>"
      ],
      "text/plain": [
       "   Index  speed  dist\n",
       "0      1      4     2\n",
       "1      2      4    10\n",
       "2      3      7     4\n",
       "3      4      7    22\n",
       "4      5      8    16"
      ]
     },
     "execution_count": 34,
     "metadata": {},
     "output_type": "execute_result"
    }
   ],
   "source": [
    "q9.head()"
   ]
  },
  {
   "cell_type": "code",
   "execution_count": 35,
   "id": "ac2aa371",
   "metadata": {},
   "outputs": [
    {
     "name": "stdout",
     "output_type": "stream",
     "text": [
      "skewness :  [ 0.         -0.11395477  0.78248352]\n",
      "kurtosis :  [-1.20096038 -0.57714742  0.24801866]\n"
     ]
    }
   ],
   "source": [
    "from scipy.stats import skew\n",
    "from scipy.stats import kurtosis\n",
    "print(\"skewness : \",skew(q9))\n",
    "print(\"kurtosis : \",kurtosis(q9))"
   ]
  },
  {
   "cell_type": "code",
   "execution_count": 36,
   "id": "fe67beba",
   "metadata": {},
   "outputs": [
    {
     "data": {
      "image/png": "[encoded data removed]",
      "text/plain": [
       "<Figure size 432x432 with 3 Axes>"
      ]
     },
     "metadata": {
      "needs_background": "light"
     },
     "output_type": "display_data"
    }
   ],
   "source": [
    "sns.jointplot(x= 'speed', y= 'dist', data=q9)\n",
    "plt.show()"
   ]
  },
  {
   "cell_type": "markdown",
   "id": "18dce592",
   "metadata": {},
   "source": [
    "Inferences on Car Speed vs Distance\n",
    "From the above plot we can say that Speed and Distance have a positive correlation , and once Speed increases distance increases too. There are a few outliers like when speed is 4 , dist is 10. So ignoring these outliers we can say that +ve correlation holds true for most of the data"
   ]
  },
  {
   "cell_type": "code",
   "execution_count": 37,
   "id": "05138c85",
   "metadata": {},
   "outputs": [],
   "source": [
    "q9b=pd.read_csv(\"datascience/Q9_b.csv\")"
   ]
  },
  {
   "cell_type": "code",
   "execution_count": 38,
   "id": "436f25a1",
   "metadata": {},
   "outputs": [
    {
     "data": {
      "text/html": [
       "<div>\n",
       "<style scoped>\n",
       "    .dataframe tbody tr th:only-of-type {\n",
       "        vertical-align: middle;\n",
       "    }\n",
       "\n",
       "    .dataframe tbody tr th {\n",
       "        vertical-align: top;\n",
       "    }\n",
       "\n",
       "    .dataframe thead th {\n",
       "        text-align: right;\n",
       "    }\n",
       "</style>\n",
       "<table border=\"1\" class=\"dataframe\">\n",
       "  <thead>\n",
       "    <tr style=\"text-align: right;\">\n",
       "      <th></th>\n",
       "      <th>Unnamed: 0</th>\n",
       "      <th>SP</th>\n",
       "      <th>WT</th>\n",
       "    </tr>\n",
       "  </thead>\n",
       "  <tbody>\n",
       "    <tr>\n",
       "      <th>0</th>\n",
       "      <td>1</td>\n",
       "      <td>104.185353</td>\n",
       "      <td>28.762059</td>\n",
       "    </tr>\n",
       "    <tr>\n",
       "      <th>1</th>\n",
       "      <td>2</td>\n",
       "      <td>105.461264</td>\n",
       "      <td>30.466833</td>\n",
       "    </tr>\n",
       "    <tr>\n",
       "      <th>2</th>\n",
       "      <td>3</td>\n",
       "      <td>105.461264</td>\n",
       "      <td>30.193597</td>\n",
       "    </tr>\n",
       "    <tr>\n",
       "      <th>3</th>\n",
       "      <td>4</td>\n",
       "      <td>113.461264</td>\n",
       "      <td>30.632114</td>\n",
       "    </tr>\n",
       "    <tr>\n",
       "      <th>4</th>\n",
       "      <td>5</td>\n",
       "      <td>104.461264</td>\n",
       "      <td>29.889149</td>\n",
       "    </tr>\n",
       "  </tbody>\n",
       "</table>\n",
       "</div>"
      ],
      "text/plain": [
       "   Unnamed: 0          SP         WT\n",
       "0           1  104.185353  28.762059\n",
       "1           2  105.461264  30.466833\n",
       "2           3  105.461264  30.193597\n",
       "3           4  113.461264  30.632114\n",
       "4           5  104.461264  29.889149"
      ]
     },
     "execution_count": 38,
     "metadata": {},
     "output_type": "execute_result"
    }
   ],
   "source": [
    "q9b.head()"
   ]
  },
  {
   "cell_type": "code",
   "execution_count": 39,
   "id": "44ae315b",
   "metadata": {},
   "outputs": [
    {
     "name": "stdout",
     "output_type": "stream",
     "text": [
      "skewness :  [ 0.          1.58145368 -0.60330993]\n",
      "kurtosis :  [-1.20036585  2.72352149  0.81946588]\n"
     ]
    }
   ],
   "source": [
    "print(\"skewness : \",skew(q9b))\n",
    "print(\"kurtosis : \",kurtosis(q9b))"
   ]
  },
  {
   "cell_type": "code",
   "execution_count": 41,
   "id": "2d2c916a",
   "metadata": {},
   "outputs": [
    {
     "data": {
      "image/png": "[encoded data removed]",
      "text/plain": [
       "<Figure size 432x432 with 3 Axes>"
      ]
     },
     "metadata": {
      "needs_background": "light"
     },
     "output_type": "display_data"
    }
   ],
   "source": [
    "sns.jointplot(x= 'SP', y= 'WT', data=q9b)\n",
    "plt.show()"
   ]
  },
  {
   "cell_type": "code",
   "execution_count": 42,
   "id": "c7c9505c",
   "metadata": {},
   "outputs": [
    {
     "data": {
      "image/png": "[encoded data removed]",
      "text/plain": [
       "<Figure size 432x432 with 3 Axes>"
      ]
     },
     "metadata": {
      "needs_background": "light"
     },
     "output_type": "display_data"
    }
   ],
   "source": [
    "sns.jointplot(x='SP', y= 'WT', data=q9b,kind='kde')\n",
    "plt.show()"
   ]
  },
  {
   "cell_type": "code",
   "execution_count": 43,
   "id": "dba97b67",
   "metadata": {},
   "outputs": [
    {
     "data": {
      "text/html": [
       "<div>\n",
       "<style scoped>\n",
       "    .dataframe tbody tr th:only-of-type {\n",
       "        vertical-align: middle;\n",
       "    }\n",
       "\n",
       "    .dataframe tbody tr th {\n",
       "        vertical-align: top;\n",
       "    }\n",
       "\n",
       "    .dataframe thead th {\n",
       "        text-align: right;\n",
       "    }\n",
       "</style>\n",
       "<table border=\"1\" class=\"dataframe\">\n",
       "  <thead>\n",
       "    <tr style=\"text-align: right;\">\n",
       "      <th></th>\n",
       "      <th>Unnamed: 0</th>\n",
       "      <th>SP</th>\n",
       "      <th>WT</th>\n",
       "    </tr>\n",
       "  </thead>\n",
       "  <tbody>\n",
       "    <tr>\n",
       "      <th>count</th>\n",
       "      <td>81.000000</td>\n",
       "      <td>81.000000</td>\n",
       "      <td>81.000000</td>\n",
       "    </tr>\n",
       "    <tr>\n",
       "      <th>mean</th>\n",
       "      <td>41.000000</td>\n",
       "      <td>121.540272</td>\n",
       "      <td>32.412577</td>\n",
       "    </tr>\n",
       "    <tr>\n",
       "      <th>std</th>\n",
       "      <td>23.526581</td>\n",
       "      <td>14.181432</td>\n",
       "      <td>7.492813</td>\n",
       "    </tr>\n",
       "    <tr>\n",
       "      <th>min</th>\n",
       "      <td>1.000000</td>\n",
       "      <td>99.564907</td>\n",
       "      <td>15.712859</td>\n",
       "    </tr>\n",
       "    <tr>\n",
       "      <th>25%</th>\n",
       "      <td>21.000000</td>\n",
       "      <td>113.829145</td>\n",
       "      <td>29.591768</td>\n",
       "    </tr>\n",
       "    <tr>\n",
       "      <th>50%</th>\n",
       "      <td>41.000000</td>\n",
       "      <td>118.208698</td>\n",
       "      <td>32.734518</td>\n",
       "    </tr>\n",
       "    <tr>\n",
       "      <th>75%</th>\n",
       "      <td>61.000000</td>\n",
       "      <td>126.404312</td>\n",
       "      <td>37.392524</td>\n",
       "    </tr>\n",
       "    <tr>\n",
       "      <th>max</th>\n",
       "      <td>81.000000</td>\n",
       "      <td>169.598513</td>\n",
       "      <td>52.997752</td>\n",
       "    </tr>\n",
       "  </tbody>\n",
       "</table>\n",
       "</div>"
      ],
      "text/plain": [
       "       Unnamed: 0          SP         WT\n",
       "count   81.000000   81.000000  81.000000\n",
       "mean    41.000000  121.540272  32.412577\n",
       "std     23.526581   14.181432   7.492813\n",
       "min      1.000000   99.564907  15.712859\n",
       "25%     21.000000  113.829145  29.591768\n",
       "50%     41.000000  118.208698  32.734518\n",
       "75%     61.000000  126.404312  37.392524\n",
       "max     81.000000  169.598513  52.997752"
      ]
     },
     "execution_count": 43,
     "metadata": {},
     "output_type": "execute_result"
    }
   ],
   "source": [
    "q9b.describe()"
   ]
  },
  {
   "cell_type": "markdown",
   "id": "b3aae50e",
   "metadata": {},
   "source": [
    "Inferences regarding speed and weight\n",
    "From the density plot and the summary , we can make out that most of the cars weigh close to 30 and their speed averages at 120"
   ]
  },
  {
   "cell_type": "markdown",
   "id": "baa1c6e6",
   "metadata": {},
   "source": [
    "Question 20"
   ]
  },
  {
   "cell_type": "code",
   "execution_count": 53,
   "id": "81006464",
   "metadata": {},
   "outputs": [],
   "source": [
    "q20 = pd.read_csv('datascience/Cars (1).csv')"
   ]
  },
  {
   "cell_type": "code",
   "execution_count": 55,
   "id": "de2a3588",
   "metadata": {},
   "outputs": [
    {
     "data": {
      "text/html": [
       "<div>\n",
       "<style scoped>\n",
       "    .dataframe tbody tr th:only-of-type {\n",
       "        vertical-align: middle;\n",
       "    }\n",
       "\n",
       "    .dataframe tbody tr th {\n",
       "        vertical-align: top;\n",
       "    }\n",
       "\n",
       "    .dataframe thead th {\n",
       "        text-align: right;\n",
       "    }\n",
       "</style>\n",
       "<table border=\"1\" class=\"dataframe\">\n",
       "  <thead>\n",
       "    <tr style=\"text-align: right;\">\n",
       "      <th></th>\n",
       "      <th>HP</th>\n",
       "      <th>MPG</th>\n",
       "      <th>VOL</th>\n",
       "      <th>SP</th>\n",
       "      <th>WT</th>\n",
       "    </tr>\n",
       "  </thead>\n",
       "  <tbody>\n",
       "    <tr>\n",
       "      <th>0</th>\n",
       "      <td>49</td>\n",
       "      <td>53.700681</td>\n",
       "      <td>89</td>\n",
       "      <td>104.185353</td>\n",
       "      <td>28.762059</td>\n",
       "    </tr>\n",
       "    <tr>\n",
       "      <th>1</th>\n",
       "      <td>55</td>\n",
       "      <td>50.013401</td>\n",
       "      <td>92</td>\n",
       "      <td>105.461264</td>\n",
       "      <td>30.466833</td>\n",
       "    </tr>\n",
       "    <tr>\n",
       "      <th>2</th>\n",
       "      <td>55</td>\n",
       "      <td>50.013401</td>\n",
       "      <td>92</td>\n",
       "      <td>105.461264</td>\n",
       "      <td>30.193597</td>\n",
       "    </tr>\n",
       "    <tr>\n",
       "      <th>3</th>\n",
       "      <td>70</td>\n",
       "      <td>45.696322</td>\n",
       "      <td>92</td>\n",
       "      <td>113.461264</td>\n",
       "      <td>30.632114</td>\n",
       "    </tr>\n",
       "    <tr>\n",
       "      <th>4</th>\n",
       "      <td>53</td>\n",
       "      <td>50.504232</td>\n",
       "      <td>92</td>\n",
       "      <td>104.461264</td>\n",
       "      <td>29.889149</td>\n",
       "    </tr>\n",
       "  </tbody>\n",
       "</table>\n",
       "</div>"
      ],
      "text/plain": [
       "   HP        MPG  VOL          SP         WT\n",
       "0  49  53.700681   89  104.185353  28.762059\n",
       "1  55  50.013401   92  105.461264  30.466833\n",
       "2  55  50.013401   92  105.461264  30.193597\n",
       "3  70  45.696322   92  113.461264  30.632114\n",
       "4  53  50.504232   92  104.461264  29.889149"
      ]
     },
     "execution_count": 55,
     "metadata": {},
     "output_type": "execute_result"
    }
   ],
   "source": [
    "q20.head()"
   ]
  },
  {
   "cell_type": "code",
   "execution_count": 56,
   "id": "79945d5b",
   "metadata": {},
   "outputs": [],
   "source": [
    "mpg=q20['MPG']"
   ]
  },
  {
   "cell_type": "code",
   "execution_count": 57,
   "id": "7e04e8e7",
   "metadata": {},
   "outputs": [
    {
     "data": {
      "text/plain": [
       "0     53.700681\n",
       "1     50.013401\n",
       "2     50.013401\n",
       "3     45.696322\n",
       "4     50.504232\n",
       "        ...    \n",
       "76    36.900000\n",
       "77    19.197888\n",
       "78    34.000000\n",
       "79    19.833733\n",
       "80    12.101263\n",
       "Name: MPG, Length: 81, dtype: float64"
      ]
     },
     "execution_count": 57,
     "metadata": {},
     "output_type": "execute_result"
    }
   ],
   "source": [
    "mpg"
   ]
  },
  {
   "cell_type": "code",
   "execution_count": 58,
   "id": "f6ec1143",
   "metadata": {},
   "outputs": [],
   "source": [
    "from scipy.stats import zscore"
   ]
  },
  {
   "cell_type": "code",
   "execution_count": 59,
   "id": "674a5276",
   "metadata": {},
   "outputs": [
    {
     "data": {
      "text/plain": [
       "count    81.000000\n",
       "mean     34.422076\n",
       "std       9.131445\n",
       "min      12.101263\n",
       "25%      27.856252\n",
       "50%      35.152727\n",
       "75%      39.531633\n",
       "max      53.700681\n",
       "Name: MPG, dtype: float64"
      ]
     },
     "execution_count": 59,
     "metadata": {},
     "output_type": "execute_result"
    }
   ],
   "source": [
    "mpg.describe()"
   ]
  },
  {
   "cell_type": "markdown",
   "id": "fc736abe",
   "metadata": {},
   "source": [
    "creating subset of mpg values of more than 38"
   ]
  },
  {
   "cell_type": "code",
   "execution_count": 60,
   "id": "add1a616",
   "metadata": {},
   "outputs": [],
   "source": [
    "mpg_38 = q20['MPG'] > 38 "
   ]
  },
  {
   "cell_type": "code",
   "execution_count": 61,
   "id": "fc93265c",
   "metadata": {},
   "outputs": [
    {
     "data": {
      "text/plain": [
       "False    48\n",
       "True     33\n",
       "Name: MPG, dtype: int64"
      ]
     },
     "execution_count": 61,
     "metadata": {},
     "output_type": "execute_result"
    }
   ],
   "source": [
    "mpg_38.value_counts()"
   ]
  },
  {
   "cell_type": "code",
   "execution_count": 62,
   "id": "e43f3fe7",
   "metadata": {},
   "outputs": [
    {
     "name": "stdout",
     "output_type": "stream",
     "text": [
      "probability of mpg>38 is  0.4074074074074074\n"
     ]
    }
   ],
   "source": [
    "print(\"probability of mpg>38 is \", 33/81)"
   ]
  },
  {
   "cell_type": "markdown",
   "id": "d31dc84b",
   "metadata": {},
   "source": [
    "creating subset of mpg values of less than 40"
   ]
  },
  {
   "cell_type": "code",
   "execution_count": 64,
   "id": "bdb117a3",
   "metadata": {},
   "outputs": [],
   "source": [
    "mpg_40 =q20['MPG'] < 40 "
   ]
  },
  {
   "cell_type": "code",
   "execution_count": 65,
   "id": "079747c3",
   "metadata": {},
   "outputs": [
    {
     "data": {
      "text/plain": [
       "True     61\n",
       "False    20\n",
       "Name: MPG, dtype: int64"
      ]
     },
     "execution_count": 65,
     "metadata": {},
     "output_type": "execute_result"
    }
   ],
   "source": [
    "mpg_40.value_counts()"
   ]
  },
  {
   "cell_type": "code",
   "execution_count": 66,
   "id": "751d6afd",
   "metadata": {},
   "outputs": [
    {
     "name": "stdout",
     "output_type": "stream",
     "text": [
      "probability of mpg < 40  is  0.7530864197530864\n"
     ]
    }
   ],
   "source": [
    "print(\"probability of mpg < 40  is \", 61/81)"
   ]
  },
  {
   "cell_type": "markdown",
   "id": "eaf22ccc",
   "metadata": {},
   "source": [
    "creating subset of mpg values of more than 20 and less than 50"
   ]
  },
  {
   "cell_type": "code",
   "execution_count": 67,
   "id": "e41b9cec",
   "metadata": {},
   "outputs": [],
   "source": [
    "mpg_2050 = q20['MPG'].between(20,50)"
   ]
  },
  {
   "cell_type": "code",
   "execution_count": 68,
   "id": "6074bbdd",
   "metadata": {},
   "outputs": [
    {
     "data": {
      "text/plain": [
       "True     69\n",
       "False    12\n",
       "Name: MPG, dtype: int64"
      ]
     },
     "execution_count": 68,
     "metadata": {},
     "output_type": "execute_result"
    }
   ],
   "source": [
    "mpg_2050.value_counts()"
   ]
  },
  {
   "cell_type": "code",
   "execution_count": 69,
   "id": "bf71bb00",
   "metadata": {},
   "outputs": [
    {
     "name": "stdout",
     "output_type": "stream",
     "text": [
      "probability of mpg more than 20 and less than 50  is  0.8518518518518519\n"
     ]
    }
   ],
   "source": [
    "print(\"probability of mpg more than 20 and less than 50  is \", 69/81)"
   ]
  },
  {
   "cell_type": "markdown",
   "id": "be6155e0",
   "metadata": {},
   "source": [
    "Question 21a"
   ]
  },
  {
   "cell_type": "code",
   "execution_count": 70,
   "id": "bac212f1",
   "metadata": {},
   "outputs": [],
   "source": [
    "q21 = pd.read_csv('datascience/Cars (1).csv')"
   ]
  },
  {
   "cell_type": "code",
   "execution_count": 71,
   "id": "01d374d4",
   "metadata": {},
   "outputs": [],
   "source": [
    "mpg_q21 = q21['MPG'] # creating subset of only mpg column from the actual dataset of cars.#"
   ]
  },
  {
   "cell_type": "code",
   "execution_count": 72,
   "id": "9d26911e",
   "metadata": {},
   "outputs": [
    {
     "name": "stderr",
     "output_type": "stream",
     "text": [
      "C:\\Users\\ranji\\.matplotlib\\ana\\lib\\site-packages\\seaborn\\distributions.py:2619: FutureWarning: `distplot` is a deprecated function and will be removed in a future version. Please adapt your code to use either `displot` (a figure-level function with similar flexibility) or `histplot` (an axes-level function for histograms).\n",
      "  warnings.warn(msg, FutureWarning)\n"
     ]
    },
    {
     "data": {
      "text/plain": [
       "<AxesSubplot:xlabel='MPG', ylabel='Density'>"
      ]
     },
     "execution_count": 72,
     "metadata": {},
     "output_type": "execute_result"
    },
    {
     "data": {
      "image/png": "[encoded data removed]",
      "text/plain": [
       "<Figure size 432x288 with 1 Axes>"
      ]
     },
     "metadata": {
      "needs_background": "light"
     },
     "output_type": "display_data"
    }
   ],
   "source": [
    "sns.distplot(mpg_q21) #plotting mpg_21 to check of the distribution is a normal distributon#"
   ]
  },
  {
   "cell_type": "code",
   "execution_count": 73,
   "id": "77e57550",
   "metadata": {},
   "outputs": [
    {
     "data": {
      "text/plain": [
       "count    81.000000\n",
       "mean     34.422076\n",
       "std       9.131445\n",
       "min      12.101263\n",
       "25%      27.856252\n",
       "50%      35.152727\n",
       "75%      39.531633\n",
       "max      53.700681\n",
       "Name: MPG, dtype: float64"
      ]
     },
     "execution_count": 73,
     "metadata": {},
     "output_type": "execute_result"
    }
   ],
   "source": [
    "mpg_q21.describe()"
   ]
  },
  {
   "cell_type": "markdown",
   "id": "f4ca98ee",
   "metadata": {},
   "source": [
    "Inference: The dist doesn't follow normal distribution"
   ]
  },
  {
   "cell_type": "markdown",
   "id": "d08727cb",
   "metadata": {},
   "source": [
    "Question 21b"
   ]
  },
  {
   "cell_type": "code",
   "execution_count": 74,
   "id": "1d8bd95d",
   "metadata": {},
   "outputs": [],
   "source": [
    "df_at = pd.read_csv('datascience/wc-at.csv')"
   ]
  },
  {
   "cell_type": "code",
   "execution_count": 75,
   "id": "fee43cdf",
   "metadata": {},
   "outputs": [
    {
     "data": {
      "text/html": [
       "<div>\n",
       "<style scoped>\n",
       "    .dataframe tbody tr th:only-of-type {\n",
       "        vertical-align: middle;\n",
       "    }\n",
       "\n",
       "    .dataframe tbody tr th {\n",
       "        vertical-align: top;\n",
       "    }\n",
       "\n",
       "    .dataframe thead th {\n",
       "        text-align: right;\n",
       "    }\n",
       "</style>\n",
       "<table border=\"1\" class=\"dataframe\">\n",
       "  <thead>\n",
       "    <tr style=\"text-align: right;\">\n",
       "      <th></th>\n",
       "      <th>Waist</th>\n",
       "      <th>AT</th>\n",
       "    </tr>\n",
       "  </thead>\n",
       "  <tbody>\n",
       "    <tr>\n",
       "      <th>0</th>\n",
       "      <td>74.75</td>\n",
       "      <td>25.72</td>\n",
       "    </tr>\n",
       "    <tr>\n",
       "      <th>1</th>\n",
       "      <td>72.60</td>\n",
       "      <td>25.89</td>\n",
       "    </tr>\n",
       "    <tr>\n",
       "      <th>2</th>\n",
       "      <td>81.80</td>\n",
       "      <td>42.60</td>\n",
       "    </tr>\n",
       "    <tr>\n",
       "      <th>3</th>\n",
       "      <td>83.95</td>\n",
       "      <td>42.80</td>\n",
       "    </tr>\n",
       "    <tr>\n",
       "      <th>4</th>\n",
       "      <td>74.65</td>\n",
       "      <td>29.84</td>\n",
       "    </tr>\n",
       "  </tbody>\n",
       "</table>\n",
       "</div>"
      ],
      "text/plain": [
       "   Waist     AT\n",
       "0  74.75  25.72\n",
       "1  72.60  25.89\n",
       "2  81.80  42.60\n",
       "3  83.95  42.80\n",
       "4  74.65  29.84"
      ]
     },
     "execution_count": 75,
     "metadata": {},
     "output_type": "execute_result"
    }
   ],
   "source": [
    "df_at.head()"
   ]
  },
  {
   "cell_type": "code",
   "execution_count": 76,
   "id": "7e5dec6d",
   "metadata": {},
   "outputs": [
    {
     "name": "stderr",
     "output_type": "stream",
     "text": [
      "C:\\Users\\ranji\\.matplotlib\\ana\\lib\\site-packages\\seaborn\\distributions.py:2619: FutureWarning: `distplot` is a deprecated function and will be removed in a future version. Please adapt your code to use either `displot` (a figure-level function with similar flexibility) or `histplot` (an axes-level function for histograms).\n",
      "  warnings.warn(msg, FutureWarning)\n"
     ]
    },
    {
     "data": {
      "text/plain": [
       "<AxesSubplot:xlabel='Waist', ylabel='Density'>"
      ]
     },
     "execution_count": 76,
     "metadata": {},
     "output_type": "execute_result"
    },
    {
     "data": {
      "image/png": "[encoded data removed]",
      "text/plain": [
       "<Figure size 432x288 with 1 Axes>"
      ]
     },
     "metadata": {
      "needs_background": "light"
     },
     "output_type": "display_data"
    }
   ],
   "source": [
    "sns.distplot(df_at['Waist'])"
   ]
  },
  {
   "cell_type": "code",
   "execution_count": 77,
   "id": "a915bcae",
   "metadata": {},
   "outputs": [
    {
     "name": "stderr",
     "output_type": "stream",
     "text": [
      "C:\\Users\\ranji\\.matplotlib\\ana\\lib\\site-packages\\seaborn\\distributions.py:2619: FutureWarning: `distplot` is a deprecated function and will be removed in a future version. Please adapt your code to use either `displot` (a figure-level function with similar flexibility) or `histplot` (an axes-level function for histograms).\n",
      "  warnings.warn(msg, FutureWarning)\n"
     ]
    },
    {
     "data": {
      "text/plain": [
       "<AxesSubplot:xlabel='AT', ylabel='Density'>"
      ]
     },
     "execution_count": 77,
     "metadata": {},
     "output_type": "execute_result"
    },
    {
     "data": {
      "image/png": "[encoded data removed]",
      "text/plain": [
       "<Figure size 432x288 with 1 Axes>"
      ]
     },
     "metadata": {
      "needs_background": "light"
     },
     "output_type": "display_data"
    }
   ],
   "source": [
    "sns.distplot(df_at['AT'])"
   ]
  },
  {
   "cell_type": "markdown",
   "id": "ff07c212",
   "metadata": {},
   "source": [
    "Inference: Both the distributions doesn't follow normal distribution"
   ]
  },
  {
   "cell_type": "markdown",
   "id": "b74f4ab1",
   "metadata": {},
   "source": [
    "Question 12"
   ]
  },
  {
   "cell_type": "code",
   "execution_count": 87,
   "id": "626de128",
   "metadata": {},
   "outputs": [],
   "source": [
    "import numpy as np\n",
    "import matplotlib.pyplot as plt\n",
    "\n",
    "students = [34,36,36,38,38,39,39,40,40,41,41,41,41,42,42,45,49,56]"
   ]
  },
  {
   "cell_type": "code",
   "execution_count": 79,
   "id": "3eea0fa5",
   "metadata": {},
   "outputs": [
    {
     "data": {
      "text/plain": [
       "40.5"
      ]
     },
     "execution_count": 79,
     "metadata": {},
     "output_type": "execute_result"
    }
   ],
   "source": [
    "np.median(students)"
   ]
  },
  {
   "cell_type": "code",
   "execution_count": 80,
   "id": "14cbfd2a",
   "metadata": {},
   "outputs": [
    {
     "data": {
      "text/plain": [
       "41.0"
      ]
     },
     "execution_count": 80,
     "metadata": {},
     "output_type": "execute_result"
    }
   ],
   "source": [
    "np.mean(students)"
   ]
  },
  {
   "cell_type": "code",
   "execution_count": 81,
   "id": "92c6e68a",
   "metadata": {},
   "outputs": [
    {
     "data": {
      "text/plain": [
       "4.910306620885412"
      ]
     },
     "execution_count": 81,
     "metadata": {},
     "output_type": "execute_result"
    }
   ],
   "source": [
    "np.std(students)"
   ]
  },
  {
   "cell_type": "code",
   "execution_count": 82,
   "id": "e9cec8b3",
   "metadata": {},
   "outputs": [
    {
     "name": "stdout",
     "output_type": "stream",
     "text": [
      "Skewness : 1.5428846814037365\n",
      "Kurtosis : 2.6216313788782957\n"
     ]
    }
   ],
   "source": [
    "from scipy.stats import skew\n",
    "from scipy.stats import kurtosis\n",
    "print('Skewness :', skew(students))\n",
    "print('Kurtosis :',  kurtosis(students))"
   ]
  },
  {
   "cell_type": "code",
   "execution_count": 83,
   "id": "5a1ed519",
   "metadata": {},
   "outputs": [
    {
     "name": "stderr",
     "output_type": "stream",
     "text": [
      "C:\\Users\\ranji\\.matplotlib\\ana\\lib\\site-packages\\seaborn\\distributions.py:2619: FutureWarning: `distplot` is a deprecated function and will be removed in a future version. Please adapt your code to use either `displot` (a figure-level function with similar flexibility) or `histplot` (an axes-level function for histograms).\n",
      "  warnings.warn(msg, FutureWarning)\n"
     ]
    },
    {
     "data": {
      "text/plain": [
       "<AxesSubplot:ylabel='Density'>"
      ]
     },
     "execution_count": 83,
     "metadata": {},
     "output_type": "execute_result"
    },
    {
     "data": {
      "image/png": "[encoded data removed]",
      "text/plain": [
       "<Figure size 432x288 with 1 Axes>"
      ]
     },
     "metadata": {
      "needs_background": "light"
     },
     "output_type": "display_data"
    }
   ],
   "source": [
    "sns.distplot(students)"
   ]
  },
  {
   "cell_type": "markdown",
   "id": "a6296b07",
   "metadata": {},
   "source": [
    "Question 22"
   ]
  },
  {
   "cell_type": "markdown",
   "id": "a472d1c3",
   "metadata": {},
   "source": [
    "Finding Z scores"
   ]
  },
  {
   "cell_type": "code",
   "execution_count": 102,
   "id": "d90183a8",
   "metadata": {},
   "outputs": [
    {
     "data": {
      "text/plain": [
       "1.6448536269514722"
      ]
     },
     "execution_count": 102,
     "metadata": {},
     "output_type": "execute_result"
    }
   ],
   "source": [
    "from scipy.stats import norm\n",
    "norm.ppf(.95)  # for 90%"
   ]
  },
  {
   "cell_type": "code",
   "execution_count": 103,
   "id": "892e05ab",
   "metadata": {},
   "outputs": [
    {
     "data": {
      "text/plain": [
       "1.8807936081512509"
      ]
     },
     "execution_count": 103,
     "metadata": {},
     "output_type": "execute_result"
    }
   ],
   "source": [
    "norm.ppf(.97) # for 94%"
   ]
  },
  {
   "cell_type": "code",
   "execution_count": 104,
   "id": "f58a3176",
   "metadata": {},
   "outputs": [
    {
     "data": {
      "text/plain": [
       "0.8416212335729143"
      ]
     },
     "execution_count": 104,
     "metadata": {},
     "output_type": "execute_result"
    }
   ],
   "source": [
    "norm.ppf(.80) # for 60%"
   ]
  },
  {
   "cell_type": "markdown",
   "id": "e176674a",
   "metadata": {},
   "source": [
    "Question 23"
   ]
  },
  {
   "cell_type": "markdown",
   "id": "5fcd3568",
   "metadata": {},
   "source": [
    "Finding t scores"
   ]
  },
  {
   "cell_type": "markdown",
   "id": "53f0bf6b",
   "metadata": {},
   "source": [
    "degrees of freedom or df = n-1 : (25-1)"
   ]
  },
  {
   "cell_type": "code",
   "execution_count": 108,
   "id": "27b29b33",
   "metadata": {},
   "outputs": [
    {
     "data": {
      "text/plain": [
       "2.0638985616280205"
      ]
     },
     "execution_count": 108,
     "metadata": {},
     "output_type": "execute_result"
    }
   ],
   "source": [
    "from scipy.stats import t\n",
    "t.ppf(.975,df = 24) # df=24 and 95%"
   ]
  },
  {
   "cell_type": "code",
   "execution_count": 110,
   "id": "8b6125fe",
   "metadata": {},
   "outputs": [
    {
     "data": {
      "text/plain": [
       "2.1715446760080677"
      ]
     },
     "execution_count": 110,
     "metadata": {},
     "output_type": "execute_result"
    }
   ],
   "source": [
    "t.ppf(.98,df = 24) # df=24 and 96%"
   ]
  },
  {
   "cell_type": "code",
   "execution_count": 111,
   "id": "d9e84891",
   "metadata": {},
   "outputs": [
    {
     "data": {
      "text/plain": [
       "2.796939504772804"
      ]
     },
     "execution_count": 111,
     "metadata": {},
     "output_type": "execute_result"
    }
   ],
   "source": [
    "t.ppf(.995,df = 24) # df=24 and 99%"
   ]
  },
  {
   "cell_type": "markdown",
   "id": "7e9052ea",
   "metadata": {},
   "source": [
    "Question 24"
   ]
  },
  {
   "cell_type": "markdown",
   "id": "8d89637b",
   "metadata": {},
   "source": [
    "given that X=270 , x bar ( sample mean) = 260, sample sd S = 90, sample size = 18"
   ]
  },
  {
   "cell_type": "code",
   "execution_count": 112,
   "id": "b523adbc",
   "metadata": {},
   "outputs": [
    {
     "data": {
      "text/plain": [
       "-0.4714045207910317"
      ]
     },
     "execution_count": 112,
     "metadata": {},
     "output_type": "execute_result"
    }
   ],
   "source": [
    "# finding out t\n",
    "from math import sqrt\n",
    "t_value = (260-270)/(90/sqrt(18))\n",
    "t_value"
   ]
  },
  {
   "cell_type": "code",
   "execution_count": 114,
   "id": "c9a9bdb6",
   "metadata": {},
   "outputs": [
    {
     "data": {
      "text/plain": [
       "0.3218140331685075"
      ]
     },
     "execution_count": 114,
     "metadata": {},
     "output_type": "execute_result"
    }
   ],
   "source": [
    "# finding probability for T value , df = n-1 ( 18-1)\n",
    "from scipy.stats import t\n",
    "t.cdf(-0.471,df = 17)"
   ]
  },
  {
   "cell_type": "markdown",
   "id": "ec0fe7ed",
   "metadata": {},
   "source": [
    "so we can say that there is 32% chance that the bulb will no more than 260 days."
   ]
  },
  {
   "cell_type": "code",
   "execution_count": null,
   "id": "d9766597",
   "metadata": {},
   "outputs": [],
   "source": []
  }
 ],
 "metadata": {
  "kernelspec": {
   "display_name": "Python 3 (ipykernel)",
   "language": "python",
   "name": "python3"
  },
  "language_info": {
   "codemirror_mode": {
    "name": "ipython",
    "version": 3
   },
   "file_extension": ".py",
   "mimetype": "text/x-python",
   "name": "python",
   "nbconvert_exporter": "python",
   "pygments_lexer": "ipython3",
   "version": "3.9.12"
  }
 },
 "nbformat": 4,
 "nbformat_minor": 5
}
